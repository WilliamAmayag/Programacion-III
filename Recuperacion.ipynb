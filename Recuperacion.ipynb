{
  "nbformat": 4,
  "nbformat_minor": 0,
  "metadata": {
    "colab": {
      "name": "Recuperacion.ipynb",
      "provenance": [],
      "include_colab_link": true
    },
    "kernelspec": {
      "name": "python3",
      "display_name": "Python 3"
    },
    "language_info": {
      "name": "python"
    }
  },
  "cells": [
    {
      "cell_type": "markdown",
      "metadata": {
        "id": "view-in-github",
        "colab_type": "text"
      },
      "source": [
        "<a href=\"https://colab.research.google.com/github/alexwam03/Programacion-III/blob/main/Recuperacion.ipynb\" target=\"_parent\"><img src=\"https://colab.research.google.com/assets/colab-badge.svg\" alt=\"Open In Colab\"/></a>"
      ]
    },
    {
      "cell_type": "code",
      "metadata": {
        "id": "H7HgujbY2KTo"
      },
      "source": [
        "#Calcular sobre el sueldo las deducciones por ley ISSS (3%), AFP(6.25%), ISR(Según tabla) e imprima el total deducciones y sueldo neto. (20%)\n",
        "sueldo = float(input(\"Sueldo: \"))\n",
        "isss = sueldo*0.03 \n",
        "afp = sueldo*0.0625\n",
        "sueldo_neto = sueldo - (isss + afp)\n",
        " \n",
        "impuestosobreventa = [\n",
        "                      [0.01    , 472.00  , 0    ,0       ],\n",
        "                      [472.01  , 895.24  , 0.1  , 17.67  ],\n",
        "                      [895.25  , 2038.10 , 0.2  , 60     ],\n",
        "                      [2038.11 , 9999    , 0.3  , 288.57 ]\n",
        "]\n",
        "isr =0\n",
        "for tramo in impuestosobreventa:\n",
        "  if sueldo_neto >= tramo[0] and sueldo <=tramo[1]:\n",
        "    isr = (sueldo_neto - tramo[0])*tramo[2] + tramo[3]\n",
        " \n",
        "sueldo_neto -= isr\n",
        " \n",
        "print(sueldo, \"Deducciones:\", (isss + afp+isr), \" sueldo total:\",  sueldo_neto)"
      ],
      "execution_count": null,
      "outputs": []
    },
    {
      "cell_type": "code",
      "metadata": {
        "colab": {
          "base_uri": "https://localhost:8080/"
        },
        "id": "MB_j0ZPY2LTw",
        "outputId": "5f0747bf-34d1-462a-dbe3-8feb53ff5edb"
      },
      "source": [
        "#conversores\n",
        "valores=[\n",
        "         [], \n",
        "         [0,1.0  , 8.75, 7.77, 24.03, 34.8, 611.10, 0.83, 20.10, 0.73, 1.28], #monedas\n",
        "         [0,1.00 , 1000000000.00, 1000000.00, 1000.00, 100.00, 0.001, 39.37008, 3.28084, 1.093613, 0.000621371],#Longitud\n",
        "         [0,1.00 ,453592.4,   45359.24,   4535.924, 453.5924,  45.35924, 4.535924, 0.453592, 16.00, 0.0005],#Masa \n",
        "         [0,1.00 ,0.125,   0.001, 0.000125, 0.000001, 0.000000125, 0.000000001, 0.000000000125,0.000000000001,0.000000000000125 ],#Almacenamiento\n",
        "         [0,1.00 ,1000000.00, 1000.00, 0.0166667, 0.000277778,  0.0000115741, 0.00000165344, 0.000000031688088,3.171e-9,3.171e-10],#Tiempo\n",
        "         [0,1    , 1.00, 0.001, 0.000001, 0.033814, 0.004227, 0.002113, 0.000264, 0.061024, 0.000035],#Volumen\n",
        "         [0,1.00 ,100.00, 0.0001,  0.00000001, 0.0000000001,  0.155, 0.00107639, 0.000119599, 0.000000024710538, 0.00000000003861]#Área\n",
        "]\n",
        "\n",
        "etiquetas = [\n",
        "             [],\n",
        "             [\"1. Dolar\", \"2. Colon SV\", \"3. Quetzal\",\"4. Lempira\", \"5. Cordoba\", \"6. Colon (Costa Rica)\", \"7. Euro\", \"8. Peso Mexicano \",\"9. Libra Esterlina\",\"10. Dolar Canadiense\"],\n",
        "             [\"1. Metros\", \"2. Nanometros\", \"3. Micrones\", \"4. Milimetros\", \"5. Centimetros\", \"6. Kilometros\", \"7. Pulgadas\",\"8. Pies\", \"Yardas\",\"Millas\"],\n",
        "             [\"1. Libra \",\"2. Miligramos \",\"3.Centigramos \",\"4. Decigramos \",\"5. Gramos \",\"6.Decagramos \",\"7. Hectogramos\",\"8.Kilogramos \",\"9. Onzas \",\"10. Tonelada corta(EE.UU)\",],\n",
        "             [\"1. Bits \",\"2. Bytes \",\"3. Kilobits\",\"4.Kilobytes \",\"5. Megabits\",\"6. Megabytes\",\"7. Gigabits\",\"8. Gigabytes\",\"9. Terabits\",\"10. Terabytes\"],\n",
        "             [\"1. Segundos \",\"2.Microsegundos\",\"3.Milisegundos \",\"4.Minutos \",\"5.Horas \",\"6. Dias\",\"7. Semanas \",\"8. Años\",\"9. Decadas \",\"10.Siglos \"],\n",
        "             [\"1. Mililitro\",\"2. centímetros cubicos \",\"3. Litros \",\"4. Metros Cubicos\",\"5. Onzas liquidas (EE.UU)\",\"6. Tazas (EE.UU)\",\"7. Pintas (EE.UU)\",\"8. Galones\",\"9. Pulgadas Cubicas\",\"10. Pies Cubicos\"],\n",
        "             [\"1. Centimetros Cuadrados\",\"2.Milimetros Cuadrados \",\"3. Metros Cuadrados\",\"4. Hectareas \",\"5. Kilometros Cuadrados\",\"6. Pulgadas Cuadradas\",\"7.Pies Cuadrados \",\"8. Yardas Cuadradras\",\"9. Acres\",\"10. Millas Cuadradas\"]\n",
        "]\n",
        "\n",
        "print(\"Menu de conversor\")\n",
        "print(\"1. Monedas\")\n",
        "print(\"2. Longitud\")\n",
        "print(\"3. Masa\")\n",
        "print(\"4. Almacenamiento\")\n",
        "print(\"5. Tiempo\")\n",
        "print(\"6. Volumen\")\n",
        "print(\"7. Área\")\n",
        "\n",
        "\n",
        "conversor = int(input(\"Conversor: \"))\n",
        "print( etiquetas[conversor] )\n",
        "\n",
        "de = int(input(\"De:\"))\n",
        "a = int(input(\"A:\"))\n",
        "cantidad = float(input(\"Cantidad:\"))\n",
        "\n",
        "\n",
        "\n",
        "def convertir(conversor, de, a, cantidad):\n",
        "  \n",
        "  return valores[conversor][a]/valores[conversor][de]*cantidad\n",
        "\n",
        "print(\"Respuesta: \", convertir(conversor, de, a, cantidad))"
      ],
      "execution_count": null,
      "outputs": [
        {
          "output_type": "stream",
          "name": "stdout",
          "text": [
            "Menu de conversor\n",
            "1. Monedas\n",
            "2. Longitud\n",
            "3. Masa\n",
            "4. Almacenamiento\n",
            "5. Tiempo\n",
            "6. Volumen\n",
            "7. Área\n",
            "Conversor: 1\n",
            "['1. Dolar', '2. Colon SV', '3. Quetzal', '4. Lempira', '5. Cordoba', '6. Colon (Costa Rica)', '7. Euro', '8. Peso Mexicano ', '9. Libra Esterlina', '10. Dolar Canadiense']\n",
            "De:1\n",
            "A:3\n",
            "Cantidad:1\n",
            "Respuesta:  7.77\n"
          ]
        }
      ]
    },
    {
      "cell_type": "code",
      "metadata": {
        "colab": {
          "base_uri": "https://localhost:8080/"
        },
        "id": "t00lLmPsF-Ii",
        "outputId": "6d1e032f-6193-41b0-ad0a-81410c5b97a7"
      },
      "source": [
        "#Calcular el valor a pagar según el número de metros consumidos de agua potable\n",
        "cantidad = float(input(\"Ingrese cantidad de agua consumida: \"))\n",
        "Deuda_Total = 6.00\n",
        "\n",
        "if cantidad >= 0.1 and cantidad <= 18:\n",
        "  print(\"El total a pagar es $\", Deuda_Total)\n",
        "elif cantidad >18 and cantidad <= 28:\n",
        "  extra = cantidad - 18\n",
        "  montoextra = extra*0.45\n",
        "  print(\"El total a pagar es $\", (Deuda_Total+ montoextra))\n",
        "else:\n",
        "  extrade28 = cantidad - 28\n",
        "  montoextra28 = extrade28*0.65\n",
        "\n",
        "  montoextra = 10 * 0.45\n",
        "  print(\"El total a pagar es $\", (Deuda_Total+montoextra28+ montoextra))\n",
        "\n",
        "  \n",
        "\n",
        "\n",
        " "
      ],
      "execution_count": null,
      "outputs": [
        {
          "output_type": "stream",
          "text": [
            "Ingrese cantidad de agua consumida: 29\n",
            "El total a pagar es $ 11.15\n"
          ],
          "name": "stdout"
        }
      ]
    },
    {
      "cell_type": "code",
      "metadata": {
        "id": "DFTwO3EWfbSD",
        "colab": {
          "base_uri": "https://localhost:8080/"
        },
        "outputId": "c0d55c0c-5767-4db2-e70e-f8a4998ed18b"
      },
      "source": [
        "#Realizar un conversor propio, donde especifique el valor de conversion \n",
        "\n",
        "imprimir = int(input(\"Escribe un numero: \"))\n",
        "l = 0\n",
        "j = imprimir\n",
        "i = 0\n",
        "while i < j:\n",
        "  if i == 0:\n",
        "    i = i + 1\n",
        "    result = 0\n",
        "    acum = result + i\n",
        "    l = acum\n",
        "    print(f\"{i} + {result} = {l}\")\n",
        "  else:\n",
        "    i = i + 1\n",
        "    acum = i + l\n",
        "    print(f\"{i} + {l} = {acum}\")\n",
        "    l = acum\n",
        "\n",
        "\n",
        "\n"
      ],
      "execution_count": null,
      "outputs": [
        {
          "output_type": "stream",
          "name": "stdout",
          "text": [
            "Escribe un numero: 8\n",
            "1 + 0 = 1\n",
            "2 + 1 = 3\n",
            "3 + 3 = 6\n",
            "4 + 6 = 10\n",
            "5 + 10 = 15\n",
            "6 + 15 = 21\n",
            "7 + 21 = 28\n",
            "8 + 28 = 36\n"
          ]
        }
      ]
    }
  ]
}